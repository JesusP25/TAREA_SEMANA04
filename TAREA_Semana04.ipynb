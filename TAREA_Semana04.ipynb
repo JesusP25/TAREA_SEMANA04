{
  "nbformat": 4,
  "nbformat_minor": 0,
  "metadata": {
    "colab": {
      "provenance": []
    },
    "kernelspec": {
      "name": "python3",
      "display_name": "Python 3"
    },
    "language_info": {
      "name": "python"
    }
  },
  "cells": [
    {
      "cell_type": "code",
      "execution_count": 4,
      "metadata": {
        "colab": {
          "base_uri": "https://localhost:8080/"
        },
        "id": "tXP1aGBnkI3G",
        "outputId": "a5e090ce-7eb7-4e61-beec-c8fbb5b2db40"
      },
      "outputs": [
        {
          "output_type": "stream",
          "name": "stdout",
          "text": [
            "La suma de 225 y 15 es:  240\n",
            "\n",
            "La resta de 225 y 15 es:  210\n",
            "\n",
            "La multiplicación de 225 y 15 es:  3375\n",
            "\n",
            "La división de 225 y 15 es:  15.0\n"
          ]
        }
      ],
      "source": [
        "# Digitamos los números\n",
        "n1 = 225\n",
        "n2 = 15\n",
        "\n",
        "# Imprimimos los operadores\n",
        "\n",
        "# Suma\n",
        "resultado1 = n1 + n2\n",
        "\n",
        "# Diferencia\n",
        "resultado2 = n1 - n2\n",
        "\n",
        "# Multiplicación\n",
        "resultado3 = n1 * n2\n",
        "\n",
        "# División\n",
        "resultado4 = n1 / n2\n",
        "\n",
        "print(f\"La suma de {n1} y {n2} es: \" , resultado1)\n",
        "print(f\"\\nLa resta de {n1} y {n2} es: \" , resultado2)\n",
        "print(f\"\\nLa multiplicación de {n1} y {n2} es: \" , resultado3)\n",
        "print(f\"\\nLa división de {n1} y {n2} es: \" , resultado4)"
      ]
    },
    {
      "cell_type": "markdown",
      "source": [
        "AHORA ASIGNAMOS LOS VALORES POR EL TECLADO"
      ],
      "metadata": {
        "id": "C-eXRRmfkn1D"
      }
    },
    {
      "cell_type": "code",
      "source": [
        "print(\"Digite el primer número: \")\n",
        "\n",
        "# Digitamos el primer valor\n",
        "n1 = input()\n",
        "\n",
        "print(\"Digite el segundo número: \")\n",
        "\n",
        "# Digitamos el segundo valor\n",
        "n2 = input()\n",
        "\n",
        "suma = int(n1) + int(n2)\n",
        "diferencia = int(n1) - int(n2)\n",
        "multiplicacion = int(n1) * int (n2)\n",
        "division = int(n1) / int(n2)\n",
        "\n",
        "# Imprimimos la suma\n",
        "print(f\"\\nLa suma de {n1} y {n2} es: {suma}\")\n",
        "\n",
        "#Imprimimos la resta\n",
        "print(f\"\\nLa diferencia de {n1} y {n2} es: {diferencia}\")\n",
        "\n",
        "# Imprimimos la multiplicacion\n",
        "print(f\"\\nLa Multiplicacion de {n1} y {n2} es: {multiplicacion}\")\n",
        "\n",
        "# Finalmente imprimimos la division\n",
        "print(f\"\\nLa division de {n1} y {n2} es: {division}\")"
      ],
      "metadata": {
        "colab": {
          "base_uri": "https://localhost:8080/"
        },
        "id": "W1BbQ4LkkmTj",
        "outputId": "6784b667-67c2-48a4-cc6d-79b7a79cc9d4"
      },
      "execution_count": 6,
      "outputs": [
        {
          "output_type": "stream",
          "name": "stdout",
          "text": [
            "Digite el primer número: \n",
            "15\n",
            "Digite el segundo número: \n",
            "3\n",
            "\n",
            "La suma de 15 y 3 es: 18\n",
            "\n",
            "La diferencia de 15 y 3 es: 12\n",
            "\n",
            "La Multiplicacion de 15 y 3 es: 45\n",
            "\n",
            "La division de 15 y 3 es: 5.0\n"
          ]
        }
      ]
    }
  ]
}